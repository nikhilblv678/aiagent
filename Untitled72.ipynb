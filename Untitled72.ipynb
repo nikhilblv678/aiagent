{
  "nbformat": 4,
  "nbformat_minor": 0,
  "metadata": {
    "colab": {
      "private_outputs": true,
      "provenance": []
    },
    "kernelspec": {
      "name": "python3",
      "display_name": "Python 3"
    },
    "language_info": {
      "name": "python"
    }
  },
  "cells": [
    {
      "cell_type": "code",
      "metadata": {
        "id": "64771be0"
      },
      "source": [
        "%pip install PyMuPDF"
      ],
      "execution_count": null,
      "outputs": []
    },
    {
      "cell_type": "code",
      "execution_count": null,
      "metadata": {
        "id": "AiKH-MuE8Bwo"
      },
      "outputs": [],
      "source": [
        "import fitz  # PyMuPDF\n",
        "\n",
        "def extract_text_from_pdf(file_path):\n",
        "    doc = fitz.open(file_path)\n",
        "    text = \"\"\n",
        "    for page in doc:\n",
        "        text += page.get_text()\n",
        "    return text\n"
      ]
    },
    {
      "cell_type": "code",
      "metadata": {
        "id": "7b2dc37b"
      },
      "source": [
        "%pip install groq"
      ],
      "execution_count": null,
      "outputs": []
    },
    {
      "cell_type": "code",
      "source": [
        "from groq import Groq\n",
        "from google.colab import userdata\n",
        "\n",
        "def extract_jd_fields(jd_text):\n",
        "    # Get API key from Colab secrets\n",
        "    groq_api_key = userdata.get('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')\n",
        "    if not groq_api_key:\n",
        "        return \"Error: GROQ_API_KEY not found in Colab secrets.\"\n",
        "\n",
        "    client = Groq(api_key=groq_api_key)\n",
        "\n",
        "    prompt = f\"\"\"\n",
        "    Extract the following from this job description:\n",
        "    - Role/Title\n",
        "    - Responsibilities\n",
        "    - Required Skills\n",
        "    - Preferred Skills\n",
        "    - Experience\n",
        "    - Location\n",
        "    - Education\n",
        "\n",
        "    JD:\n",
        "    {jd_text}\n",
        "    \"\"\"\n",
        "\n",
        "    try:\n",
        "        response = client.chat.completions.create(\n",
        "            model=\"llama3-8b-8192\",\n",
        "            messages=[{\"role\": \"user\", \"content\": prompt}]\n",
        "        )\n",
        "        return response.choices[0].message.content.strip()\n",
        "    except Exception as e:\n",
        "        return f\"❌ LLM Response Error: {e}\"\n",
        "\n"
      ],
      "metadata": {
        "id": "p_Mrf9CL8j_W"
      },
      "execution_count": null,
      "outputs": []
    },
    {
      "cell_type": "code",
      "source": [
        "from sentence_transformers import SentenceTransformer, util\n",
        "\n",
        "model = SentenceTransformer('all-MiniLM-L6-v2')\n",
        "\n",
        "def get_match_score(resume_text, jd_text):\n",
        "    resume_embedding = model.encode(resume_text, convert_to_tensor=True)\n",
        "    jd_embedding = model.encode(jd_text, convert_to_tensor=True)\n",
        "\n",
        "    score = util.pytorch_cos_sim(resume_embedding, jd_embedding).item()\n",
        "    return round(score * 100, 2)  # Return as percentage\n"
      ],
      "metadata": {
        "id": "YoVlgoJ_8zGm"
      },
      "execution_count": null,
      "outputs": []
    },
    {
      "cell_type": "code",
      "source": [
        "import gradio as gr\n",
        "from resume_reader import extract_text_from_pdf\n",
        "from jd_extractor import extract_jd_fields\n",
        "from matcher_agent import get_match_score\n",
        "\n",
        "def process_resume_and_jd(resume_file, jd_text):\n",
        "    resume_text = extract_text_from_pdf(resume_file.name)\n",
        "    structured_jd = extract_jd_fields(jd_text)\n",
        "    match_score = get_match_score(resume_text, jd_text)\n",
        "\n",
        "    return structured_jd, f\"{match_score}% Match Score\"\n",
        "\n",
        "gr.Interface(\n",
        "    fn=process_resume_and_jd,\n",
        "    inputs=[\n",
        "        gr.File(label=\"Upload Resume (PDF)\"),\n",
        "        gr.Textbox(label=\"Paste Job Description Here\", lines=10)\n",
        "    ],\n",
        "    outputs=[\n",
        "        gr.Textbox(label=\"Structured JD Fields\"),\n",
        "        gr.Textbox(label=\"Resume-JD Match Score\")\n",
        "    ],\n",
        "    title=\"AutoApply.AI - Resume Matcher\",\n",
        "    description=\"Upload resume and paste job description to get match insights\"\n",
        ").launch()\n"
      ],
      "metadata": {
        "id": "xoNAaF8O-fMK"
      },
      "execution_count": null,
      "outputs": []
    },
    {
      "cell_type": "code",
      "source": [
        "!pip install pymupdf\n"
      ],
      "metadata": {
        "id": "xLFn3KauCL3A"
      },
      "execution_count": null,
      "outputs": []
    },
    {
      "cell_type": "code",
      "source": [
        "!pip install gradio fitz PyMuPDF sentence-transformers groq\n"
      ],
      "metadata": {
        "id": "_22S44d9CU0I"
      },
      "execution_count": null,
      "outputs": []
    },
    {
      "cell_type": "code",
      "source": [
        "!pip install PyMuPDF fitz sentence-transformers gradio groq"
      ],
      "metadata": {
        "id": "BAWohhMWCYIR"
      },
      "execution_count": null,
      "outputs": []
    },
    {
      "cell_type": "code",
      "source": [
        "%pip install PyMuPDF"
      ],
      "metadata": {
        "id": "scnbJR7uCq72"
      },
      "execution_count": null,
      "outputs": []
    },
    {
      "cell_type": "code",
      "source": [
        "!pip uninstall -y fitz\n",
        "!pip install -U pymupdf\n"
      ],
      "metadata": {
        "id": "oFgOJLvHC_xk"
      },
      "execution_count": null,
      "outputs": []
    },
    {
      "cell_type": "code",
      "source": [
        "# ✅ Install necessary packages\n",
        "\n",
        "\n",
        "# ✅ Imports\n",
        "import fitz  # PyMuPDF\n",
        "import gradio as gr\n",
        "from sentence_transformers import SentenceTransformer, util\n",
        "import os\n",
        "from groq import Groq\n",
        "\n",
        "# ✅ GROQ API Key (Replace with yours)\n",
        "groq_api_key = \"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\"  # Replace this with your actual key\n",
        "client = Groq(api_key=groq_api_key)\n",
        "\n",
        "# ✅ 1. Extract text from PDF Resume\n",
        "def extract_text_from_pdf(file_path):\n",
        "    doc = fitz.open(file_path)\n",
        "    text = \"\"\n",
        "    for page in doc:\n",
        "        text += page.get_text()\n",
        "    return text\n",
        "\n",
        "# ✅ 2. Extract structured fields from JD using LLaMA3\n",
        "def extract_jd_fields(jd_text):\n",
        "    prompt = f\"\"\"\n",
        "    Extract the following from this job description:\n",
        "    - Role/Title\n",
        "    - Responsibilities\n",
        "    - Required Skills\n",
        "    - Preferred Skills\n",
        "    - Experience\n",
        "    - Location\n",
        "    - Education\n",
        "\n",
        "    JD:\n",
        "    {jd_text}\n",
        "    \"\"\"\n",
        "\n",
        "    response = client.chat.completions.create(\n",
        "        model=\"llama3-8b-8192\",\n",
        "        messages=[{\"role\": \"user\", \"content\": prompt}]\n",
        "    )\n",
        "\n",
        "    return response.choices[0].message.content.strip()\n",
        "\n",
        "# ✅ 3. Match score using sentence embeddings\n",
        "model = SentenceTransformer('all-MiniLM-L6-v2')\n",
        "\n",
        "def get_match_score(resume_text, jd_text):\n",
        "    resume_embedding = model.encode(resume_text, convert_to_tensor=True)\n",
        "    jd_embedding = model.encode(jd_text, convert_to_tensor=True)\n",
        "\n",
        "    score = util.pytorch_cos_sim(resume_embedding, jd_embedding).item()\n",
        "    return round(score * 100, 2)\n",
        "\n",
        "# ✅ 4. Gradio UI\n",
        "def process_resume_and_jd(resume_file, jd_text):\n",
        "    resume_text = extract_text_from_pdf(resume_file.name)\n",
        "    structured_jd = extract_jd_fields(jd_text)\n",
        "    match_score = get_match_score(resume_text, jd_text)\n",
        "\n",
        "    return structured_jd, f\"{match_score}% Match Score\"\n",
        "\n",
        "gr.Interface(\n",
        "    fn=process_resume_and_jd,\n",
        "    inputs=[\n",
        "        gr.File(label=\"Upload Resume (PDF)\"),\n",
        "        gr.Textbox(label=\"Paste Job Description Here\", lines=10)\n",
        "    ],\n",
        "    outputs=[\n",
        "        gr.Textbox(label=\"Structured JD Fields\"),\n",
        "        gr.Textbox(label=\"Resume-JD Match Score\")\n",
        "    ],\n",
        "    title=\"AutoApply.AI - Resume Matcher\",\n",
        "    description=\"Upload your resume and paste a job description to get matching score and structured insights\"\n",
        ").launch()\n"
      ],
      "metadata": {
        "id": "LHCJlSmY-ygW"
      },
      "execution_count": null,
      "outputs": []
    },
    {
      "cell_type": "code",
      "source": [],
      "metadata": {
        "id": "9RFSIPar_3rS"
      },
      "execution_count": null,
      "outputs": []
    }
  ]
}